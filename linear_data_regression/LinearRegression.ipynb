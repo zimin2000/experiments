{
 "cells": [
  {
   "cell_type": "code",
   "execution_count": 1,
   "metadata": {},
   "outputs": [],
   "source": [
    "import json, csv, os\n",
    "import pandas as pd\n",
    "import numpy as np\n",
    "\n",
    "from sklearn import linear_model\n",
    "\n",
    "import warnings\n",
    "warnings.filterwarnings(action=\"ignore\", module=\"sklearn\", message=\"^internal gelsd\")\n",
    "\n",
    "def read_json(name):\n",
    "    \"\"\" Read in the JSON file and return list of pairs timestamp and value.\n",
    "    \"\"\"\n",
    "\n",
    "    JDATA = json.load(open(name))\n",
    "\n",
    "    DATA = pd.DataFrame(list(JDATA.items()), columns=[\"ts\", \"value\"])\n",
    "\n",
    "    DATA['ts']  = pd.to_datetime(DATA['ts'], unit='s')\n",
    "\n",
    "    return DATA\n",
    "\n",
    "def read_csv(name):\n",
    "    \"\"\" Read in the CSV file and return list of pairs timestamp and value.\n",
    "    \"\"\"\n",
    "\n",
    "    DATA = pd.read_csv(open(name), names=[\"ts\", \"value\"])\n",
    "\n",
    "    DATA['ts'] = pd.to_datetime(DATA['ts'])\n",
    "\n",
    "    return DATA"
   ]
  },
  {
   "cell_type": "code",
   "execution_count": 2,
   "metadata": {},
   "outputs": [],
   "source": [
    "def linear_regression_sklearn(data):\n",
    "    \"\"\" Fit linear regression model for the data.\n",
    "    \"\"\"\n",
    "    dataset = data.values\n",
    "\n",
    "    X_train = dataset[:,0].reshape(-1,1)\n",
    "    y_train = dataset[:,1]\n",
    "\n",
    "    regr = linear_model.LinearRegression()\n",
    "\n",
    "    regr.fit(X_train, y_train)\n",
    "\n",
    "    return (regr.coef_[0], regr.intercept_)"
   ]
  },
  {
   "cell_type": "code",
   "execution_count": 3,
   "metadata": {},
   "outputs": [],
   "source": [
    "def linear_regression_manual(data):\n",
    "    \"\"\" My incorrect way to fit the data to liner model manually.\n",
    "    \"\"\"\n",
    "    X_0 = None\n",
    "    Y_0 = None\n",
    "\n",
    "    S_x = 0\n",
    "    S_y = 0\n",
    "\n",
    "    DELTA = []\n",
    "\n",
    "    data.sort_values(by='ts')\n",
    "\n",
    "    for i, (x,y) in data.iterrows():\n",
    "\n",
    "        S_x += x\n",
    "        S_y += y\n",
    "\n",
    "        if X_0 is None:\n",
    "            X_0 = x\n",
    "            Y_0 = y\n",
    "            continue\n",
    "\n",
    "        dx = x - X_0\n",
    "        dy = y - Y_0\n",
    "\n",
    "        DELTA.append(dy/dx)\n",
    "\n",
    "    a = np.array(DELTA).mean()\n",
    "\n",
    "    X_avg = S_x / len(data)\n",
    "    Y_avg = S_y / len(data)\n",
    "\n",
    "    return (a, Y_avg - X_avg*a)"
   ]
  },
  {
   "cell_type": "code",
   "execution_count": 4,
   "metadata": {},
   "outputs": [],
   "source": [
    "def linear_regression_manual2(data):\n",
    "    \"\"\" Correct way to fit the data to liner model manually.\n",
    "    \"\"\"\n",
    "    X = data['ts']\n",
    "    Y = data['value']\n",
    "\n",
    "    X_avg = X.mean()\n",
    "    Y_avg = Y.mean()\n",
    "\n",
    "    X_cntr = X - X_avg\n",
    "    Y_cntr = Y - Y_avg\n",
    "\n",
    "    a = (X_cntr*Y_cntr).sum() / (X_cntr*X_cntr).sum()\n",
    "    b = Y_avg - a*X_avg\n",
    "\n",
    "    return (a, b)"
   ]
  },
  {
   "cell_type": "code",
   "execution_count": 5,
   "metadata": {},
   "outputs": [],
   "source": [
    "DIR = \"data\"\n",
    "IN = []\n",
    "\n",
    "for fn in os.listdir(DIR):\n",
    "    fname = os.path.join(DIR, fn)\n",
    "\n",
    "    p, e = os.path.splitext(fn)\n",
    "    if e == \".csv\":     d = read_csv(fname)\n",
    "    elif e == \".json\":  d = read_json(fname)\n",
    "\n",
    "    # Convert time to seconds.\n",
    "    d['ts'] = d['ts'].astype('int64') // 1e9\n",
    "\n",
    "    IN.append(d)"
   ]
  },
  {
   "cell_type": "code",
   "execution_count": 6,
   "metadata": {},
   "outputs": [],
   "source": [
    "# Combine list of arrays and average them grouping by timestamp.\n",
    "\n",
    "DATA = pd.concat(IN).groupby([\"ts\"], as_index=False).mean()"
   ]
  },
  {
   "cell_type": "code",
   "execution_count": 7,
   "metadata": {},
   "outputs": [
    {
     "name": "stdout",
     "output_type": "stream",
     "text": [
      "               ts       value     sklearn      manual     manual2\n",
      "0    1.508026e+09    2.450580    2.824168    2.273825    2.824168\n",
      "1    1.508026e+09    5.626199    5.955083    5.415747    5.955083\n",
      "2    1.508027e+09    9.126113    9.085998    8.557669    9.085998\n",
      "3    1.508028e+09   11.937737   12.216912   11.699590   12.216912\n",
      "4    1.508029e+09   15.634973   15.347827   14.841512   15.347827\n",
      "5    1.508030e+09   18.055576   18.478742   17.983433   18.478742\n",
      "6    1.508031e+09   21.031994   21.609657   21.125355   21.609657\n",
      "7    1.508032e+09   24.787419   24.740571   24.267276   24.740571\n",
      "8    1.508033e+09   26.518011   27.871486   27.409198   27.871486\n",
      "9    1.508034e+09   30.426633   31.002401   30.551120   31.002401\n",
      "10   1.508035e+09   34.062037   34.133315   33.693041   34.133315\n",
      "11   1.508036e+09   37.653705   37.264230   36.834963   37.264230\n",
      "12   1.508036e+09   38.950279   40.395145   39.976884   40.395145\n",
      "13   1.508037e+09   41.715899   43.526059   43.118806   43.526059\n",
      "14   1.508038e+09   47.181678   46.656974   46.260727   46.656974\n",
      "15   1.508039e+09   50.784328   49.787889   49.402649   49.787889\n",
      "16   1.508040e+09   51.267278   52.918804   52.544570   52.918804\n",
      "17   1.508041e+09   57.081402   56.049718   55.686492   56.049718\n",
      "18   1.508042e+09   57.694109   59.180633   58.828414   59.180633\n",
      "19   1.508043e+09   61.511372   62.311548   61.970335   62.311548\n",
      "20   1.508044e+09   65.088688   65.442462   65.112257   65.442462\n",
      "21   1.508044e+09   67.251723   68.573377   68.254178   68.573377\n",
      "22   1.508045e+09   73.637592   71.704292   71.396100   71.704292\n",
      "23   1.508046e+09   73.159110   74.835207   74.538021   74.835207\n",
      "24   1.508047e+09   79.846021   77.966121   77.679943   77.966121\n",
      "25   1.508048e+09   83.443033   81.097036   80.821864   81.097036\n",
      "26   1.508049e+09   82.143233   84.227951   83.963786   84.227951\n",
      "27   1.508050e+09   87.003362   87.358865   87.105708   87.358865\n",
      "28   1.508051e+09   90.756313   90.489780   90.247629   90.489780\n",
      "29   1.508052e+09   94.881688   93.620695   93.389551   93.620695\n",
      "..            ...         ...         ...         ...         ...\n",
      "71   1.508090e+09  225.147354  225.119112  225.350256  225.119112\n",
      "72   1.508090e+09  220.039268  228.250027  228.492178  228.250027\n",
      "73   1.508091e+09  232.039427  231.380942  231.634099  231.380942\n",
      "74   1.508092e+09  229.640565  234.511856  234.776021  234.511856\n",
      "75   1.508093e+09  241.114404  237.642771  237.917943  237.642771\n",
      "76   1.508094e+09  245.413401  240.773686  241.059864  240.773686\n",
      "77   1.508095e+09  245.626163  243.904601  244.201786  243.904601\n",
      "78   1.508096e+09  247.633054  247.035515  247.343707  247.035515\n",
      "79   1.508097e+09  244.630886  250.166430  250.485629  250.166430\n",
      "80   1.508098e+09  247.280653  253.297345  253.627550  253.297345\n",
      "81   1.508098e+09  259.464396  256.428259  256.769472  256.428259\n",
      "82   1.508099e+09  254.019837  259.559174  259.911393  259.559174\n",
      "83   1.508100e+09  254.435706  262.690089  263.053315  262.690089\n",
      "84   1.508101e+09  260.512869  265.821003  266.195237  265.821003\n",
      "85   1.508102e+09  272.775825  268.951918  269.337158  268.951918\n",
      "86   1.508103e+09  277.283304  272.082833  272.479080  272.082833\n",
      "87   1.508104e+09  275.881981  275.213748  275.621001  275.213748\n",
      "88   1.508105e+09  282.833043  278.344662  278.762923  278.344662\n",
      "89   1.508106e+09  285.496729  281.475577  281.904844  281.475577\n",
      "90   1.508107e+09  290.998034  284.606492  285.046766  284.606492\n",
      "91   1.508108e+09  274.581179  287.737406  288.188688  287.737406\n",
      "92   1.508108e+09  292.403315  290.868321  291.330609  290.868321\n",
      "93   1.508109e+09  287.074274  293.999236  294.472531  293.999236\n",
      "94   1.508110e+09  295.300838  297.130150  297.614452  297.130150\n",
      "95   1.508111e+09  288.903202  300.261065  300.756374  300.261065\n",
      "96   1.508112e+09  294.128475  303.391980  303.898295  303.391980\n",
      "97   1.508113e+09  315.181718  306.522895  307.040217  306.522895\n",
      "98   1.508114e+09  314.293947  309.653809  310.182138  309.653809\n",
      "99   1.508115e+09  315.958895  312.784724  313.324060  312.784724\n",
      "100  1.508116e+09  323.756240  315.915639  316.465982  315.915639\n",
      "\n",
      "[101 rows x 5 columns]\n"
     ]
    }
   ],
   "source": [
    "RESULT = pd.DataFrame()\n",
    "\n",
    "(a, b) = linear_regression_sklearn(DATA)\n",
    "RESULT['sklearn'] = a * DATA['ts'] + b\n",
    "\n",
    "(a, b) = linear_regression_manual(DATA)\n",
    "RESULT['manual'] = a * DATA['ts'] + b\n",
    "\n",
    "(a, b) = linear_regression_manual2(DATA)\n",
    "RESULT['manual2'] = a * DATA['ts'] + b\n",
    "\n",
    "print(pd.concat([DATA, RESULT], axis=1))"
   ]
  },
  {
   "cell_type": "code",
   "execution_count": 9,
   "metadata": {},
   "outputs": [
    {
     "data": {
      "image/png": "[encoded data removed]",
      "text/plain": [
       "<Figure size 432x288 with 1 Axes>"
      ]
     },
     "metadata": {},
     "output_type": "display_data"
    }
   ],
   "source": [
    "import matplotlib.pyplot as plt\n",
    "import numpy as np\n",
    "import matplotlib\n",
    "\n",
    "fig = plt.figure()\n",
    "ax1 = fig.add_subplot(111)\n",
    "\n",
    "ax1.scatter(IN[0]['ts'], IN[0]['value'], label='0')\n",
    "ax1.scatter(IN[1]['ts'], IN[1]['value'], label='1')\n",
    "\n",
    "ax1.plot(DATA['ts'], RESULT['sklearn'], '#0F0F0F', label='2')\n",
    "ax1.plot(DATA['ts'], RESULT['manual'], '#00FF0F', label='3')\n",
    "ax1.plot(DATA['ts'], RESULT['manual2'], '#FF000F', label='4')\n",
    "\n",
    "plt.xlabel(\"Timestamp\")\n",
    "plt.ylabel(\"Value\")\n",
    "\n",
    "plt.legend(loc='upper left');\n",
    "\n",
    "plt.show()"
   ]
  },
  {
   "cell_type": "code",
   "execution_count": 14,
   "metadata": {},
   "outputs": [
    {
     "name": "stdout",
     "output_type": "stream",
     "text": [
      "<class 'pandas.core.frame.DataFrame'>\n",
      "Int64Index: 101 entries, 0 to 100\n",
      "Data columns (total 2 columns):\n",
      "ts       101 non-null float64\n",
      "value    101 non-null float64\n",
      "dtypes: float64(2)\n",
      "memory usage: 2.4 KB\n",
      "None\n",
      "             ts      value\n",
      "0  1.508026e+09   2.450580\n",
      "1  1.508026e+09   5.626199\n",
      "2  1.508027e+09   9.126113\n",
      "3  1.508028e+09  11.937737\n",
      "4  1.508029e+09  15.634973\n",
      "                 ts       value\n",
      "count  1.010000e+02  101.000000\n",
      "mean   1.508071e+09  159.369904\n",
      "std    2.637015e+04   91.822075\n",
      "min    1.508026e+09    2.450580\n",
      "25%    1.508048e+09   82.143233\n",
      "50%    1.508071e+09  157.840237\n",
      "75%    1.508093e+09  241.114404\n",
      "max    1.508116e+09  323.756240\n"
     ]
    }
   ],
   "source": [
    "print(DATA.info())\n",
    "print(DATA.head())\n",
    "print(DATA.describe())"
   ]
  },
  {
   "cell_type": "code",
   "execution_count": 49,
   "metadata": {
    "scrolled": true
   },
   "outputs": [
    {
     "name": "stdout",
     "output_type": "stream",
     "text": [
      "          x                   ts\n",
      "count   3.0                    3\n",
      "unique  NaN                    3\n",
      "top     NaN  2017-03-22 15:16:47\n",
      "freq    NaN                    1\n",
      "first   NaN  2017-03-22 15:16:46\n",
      "last    NaN  2017-03-22 15:16:48\n",
      "mean    2.0                  NaN\n",
      "std     1.0                  NaN\n",
      "min     1.0                  NaN\n",
      "25%     1.5                  NaN\n",
      "50%     2.0                  NaN\n",
      "75%     2.5                  NaN\n",
      "max     3.0                  NaN\n",
      "Index(['x', 'ts'], dtype='object')\n",
      "(3, 2)\n"
     ]
    },
    {
     "data": {
      "text/html": [
       "<div>\n",
       "<style scoped>\n",
       "    .dataframe tbody tr th:only-of-type {\n",
       "        vertical-align: middle;\n",
       "    }\n",
       "\n",
       "    .dataframe tbody tr th {\n",
       "        vertical-align: top;\n",
       "    }\n",
       "\n",
       "    .dataframe thead th {\n",
       "        text-align: right;\n",
       "    }\n",
       "</style>\n",
       "<table border=\"1\" class=\"dataframe\">\n",
       "  <thead>\n",
       "    <tr style=\"text-align: right;\">\n",
       "      <th></th>\n",
       "      <th>x</th>\n",
       "      <th>ts</th>\n",
       "    </tr>\n",
       "  </thead>\n",
       "  <tbody>\n",
       "    <tr>\n",
       "      <th>0</th>\n",
       "      <td>1</td>\n",
       "      <td>2017-03-22 15:16:46</td>\n",
       "    </tr>\n",
       "    <tr>\n",
       "      <th>1</th>\n",
       "      <td>2</td>\n",
       "      <td>2017-03-22 15:16:47</td>\n",
       "    </tr>\n",
       "    <tr>\n",
       "      <th>2</th>\n",
       "      <td>3</td>\n",
       "      <td>2017-03-22 15:16:48</td>\n",
       "    </tr>\n",
       "  </tbody>\n",
       "</table>\n",
       "</div>"
      ],
      "text/plain": [
       "   x                  ts\n",
       "0  1 2017-03-22 15:16:46\n",
       "1  2 2017-03-22 15:16:47\n",
       "2  3 2017-03-22 15:16:48"
      ]
     },
     "execution_count": 49,
     "metadata": {},
     "output_type": "execute_result"
    }
   ],
   "source": [
    "a = pd.DataFrame([1,2,3], columns=[\"x\"])\n",
    "b = a.copy()\n",
    "\n",
    "b[\"ts\"] = pd.to_datetime(b[\"x\"] + 1490195805, unit='s')\n",
    "\n",
    "print(b.describe(include = 'all'))\n",
    "\n",
    "print(b.columns)\n",
    "\n",
    "print(b.shape)\n",
    "\n",
    "b.head()"
   ]
  },
  {
   "cell_type": "code",
   "execution_count": 50,
   "metadata": {},
   "outputs": [
    {
     "name": "stdout",
     "output_type": "stream",
     "text": [
      "<class 'pandas.core.frame.DataFrame'>\n",
      "RangeIndex: 3 entries, 0 to 2\n",
      "Data columns (total 3 columns):\n",
      "x     3 non-null int64\n",
      "ts    3 non-null datetime64[ns]\n",
      "y     3 non-null int64\n",
      "dtypes: datetime64[ns](1), int64(2)\n",
      "memory usage: 152.0 bytes\n"
     ]
    },
    {
     "data": {
      "text/html": [
       "<div>\n",
       "<style scoped>\n",
       "    .dataframe tbody tr th:only-of-type {\n",
       "        vertical-align: middle;\n",
       "    }\n",
       "\n",
       "    .dataframe tbody tr th {\n",
       "        vertical-align: top;\n",
       "    }\n",
       "\n",
       "    .dataframe thead th {\n",
       "        text-align: right;\n",
       "    }\n",
       "</style>\n",
       "<table border=\"1\" class=\"dataframe\">\n",
       "  <thead>\n",
       "    <tr style=\"text-align: right;\">\n",
       "      <th></th>\n",
       "      <th>ts</th>\n",
       "    </tr>\n",
       "  </thead>\n",
       "  <tbody>\n",
       "    <tr>\n",
       "      <th>count</th>\n",
       "      <td>3</td>\n",
       "    </tr>\n",
       "    <tr>\n",
       "      <th>unique</th>\n",
       "      <td>3</td>\n",
       "    </tr>\n",
       "    <tr>\n",
       "      <th>top</th>\n",
       "      <td>2017-03-22 15:16:47</td>\n",
       "    </tr>\n",
       "    <tr>\n",
       "      <th>freq</th>\n",
       "      <td>1</td>\n",
       "    </tr>\n",
       "    <tr>\n",
       "      <th>first</th>\n",
       "      <td>2017-03-22 15:16:46</td>\n",
       "    </tr>\n",
       "    <tr>\n",
       "      <th>last</th>\n",
       "      <td>2017-03-22 15:16:48</td>\n",
       "    </tr>\n",
       "  </tbody>\n",
       "</table>\n",
       "</div>"
      ],
      "text/plain": [
       "                         ts\n",
       "count                     3\n",
       "unique                    3\n",
       "top     2017-03-22 15:16:47\n",
       "freq                      1\n",
       "first   2017-03-22 15:16:46\n",
       "last    2017-03-22 15:16:48"
      ]
     },
     "execution_count": 50,
     "metadata": {},
     "output_type": "execute_result"
    }
   ],
   "source": [
    "c = b.copy()\n",
    "\n",
    "c[\"y\"] = c[\"x\"].astype('int64')\n",
    "\n",
    "c.info()\n",
    "\n",
    "c.describe(include=['datetime'])"
   ]
  },
  {
   "cell_type": "code",
   "execution_count": 59,
   "metadata": {},
   "outputs": [
    {
     "data": {
      "text/html": [
       "<div>\n",
       "<style scoped>\n",
       "    .dataframe tbody tr th:only-of-type {\n",
       "        vertical-align: middle;\n",
       "    }\n",
       "\n",
       "    .dataframe tbody tr th {\n",
       "        vertical-align: top;\n",
       "    }\n",
       "\n",
       "    .dataframe thead th {\n",
       "        text-align: right;\n",
       "    }\n",
       "</style>\n",
       "<table border=\"1\" class=\"dataframe\">\n",
       "  <thead>\n",
       "    <tr style=\"text-align: right;\">\n",
       "      <th></th>\n",
       "      <th>x</th>\n",
       "      <th>ts</th>\n",
       "      <th>y</th>\n",
       "    </tr>\n",
       "  </thead>\n",
       "  <tbody>\n",
       "    <tr>\n",
       "      <th>0</th>\n",
       "      <td>1</td>\n",
       "      <td>2017-03-22 15:16:46</td>\n",
       "      <td>1</td>\n",
       "    </tr>\n",
       "    <tr>\n",
       "      <th>1</th>\n",
       "      <td>2</td>\n",
       "      <td>2017-03-22 15:16:47</td>\n",
       "      <td>2</td>\n",
       "    </tr>\n",
       "    <tr>\n",
       "      <th>2</th>\n",
       "      <td>3</td>\n",
       "      <td>2017-03-22 15:16:48</td>\n",
       "      <td>3</td>\n",
       "    </tr>\n",
       "  </tbody>\n",
       "</table>\n",
       "</div>"
      ],
      "text/plain": [
       "   x                  ts  y\n",
       "0  1 2017-03-22 15:16:46  1\n",
       "1  2 2017-03-22 15:16:47  2\n",
       "2  3 2017-03-22 15:16:48  3"
      ]
     },
     "execution_count": 59,
     "metadata": {},
     "output_type": "execute_result"
    }
   ],
   "source": [
    "c.sort_values(by=[\"x\", \"y\"], ascending=True).head()"
   ]
  },
  {
   "cell_type": "code",
   "execution_count": 65,
   "metadata": {},
   "outputs": [
    {
     "name": "stdout",
     "output_type": "stream",
     "text": [
      "1 3 2.0 1.0 2.0\n"
     ]
    }
   ],
   "source": [
    "print(c['x'].min(), c['x'].max(), c['x'].mean(), c['x'].std(), c['x'].median())"
   ]
  },
  {
   "cell_type": "code",
   "execution_count": 66,
   "metadata": {},
   "outputs": [
    {
     "data": {
      "text/plain": [
       "0    1\n",
       "1    2\n",
       "2    3\n",
       "Name: x, dtype: int64"
      ]
     },
     "execution_count": 66,
     "metadata": {},
     "output_type": "execute_result"
    }
   ],
   "source": [
    "c['x']"
   ]
  },
  {
   "cell_type": "code",
   "execution_count": 69,
   "metadata": {},
   "outputs": [
    {
     "data": {
      "text/html": [
       "<div>\n",
       "<style scoped>\n",
       "    .dataframe tbody tr th:only-of-type {\n",
       "        vertical-align: middle;\n",
       "    }\n",
       "\n",
       "    .dataframe tbody tr th {\n",
       "        vertical-align: top;\n",
       "    }\n",
       "\n",
       "    .dataframe thead th {\n",
       "        text-align: right;\n",
       "    }\n",
       "</style>\n",
       "<table border=\"1\" class=\"dataframe\">\n",
       "  <thead>\n",
       "    <tr style=\"text-align: right;\">\n",
       "      <th></th>\n",
       "      <th>x</th>\n",
       "      <th>ts</th>\n",
       "      <th>y</th>\n",
       "    </tr>\n",
       "  </thead>\n",
       "  <tbody>\n",
       "    <tr>\n",
       "      <th>0</th>\n",
       "      <td>1</td>\n",
       "      <td>2017-03-22 15:16:46</td>\n",
       "      <td>1</td>\n",
       "    </tr>\n",
       "  </tbody>\n",
       "</table>\n",
       "</div>"
      ],
      "text/plain": [
       "   x                  ts  y\n",
       "0  1 2017-03-22 15:16:46  1"
      ]
     },
     "execution_count": 69,
     "metadata": {},
     "output_type": "execute_result"
    }
   ],
   "source": [
    "c[c['x']==1]"
   ]
  },
  {
   "cell_type": "code",
   "execution_count": 85,
   "metadata": {},
   "outputs": [
    {
     "data": {
      "text/html": [
       "<div>\n",
       "<style scoped>\n",
       "    .dataframe tbody tr th:only-of-type {\n",
       "        vertical-align: middle;\n",
       "    }\n",
       "\n",
       "    .dataframe tbody tr th {\n",
       "        vertical-align: top;\n",
       "    }\n",
       "\n",
       "    .dataframe thead th {\n",
       "        text-align: right;\n",
       "    }\n",
       "</style>\n",
       "<table border=\"1\" class=\"dataframe\">\n",
       "  <thead>\n",
       "    <tr style=\"text-align: right;\">\n",
       "      <th></th>\n",
       "      <th>x</th>\n",
       "      <th>ts</th>\n",
       "      <th>y</th>\n",
       "    </tr>\n",
       "  </thead>\n",
       "  <tbody>\n",
       "    <tr>\n",
       "      <th>0</th>\n",
       "      <td>1</td>\n",
       "      <td>2017-03-22 15:16:46</td>\n",
       "      <td>1</td>\n",
       "    </tr>\n",
       "    <tr>\n",
       "      <th>1</th>\n",
       "      <td>2</td>\n",
       "      <td>2017-03-22 15:16:47</td>\n",
       "      <td>2</td>\n",
       "    </tr>\n",
       "    <tr>\n",
       "      <th>2</th>\n",
       "      <td>3</td>\n",
       "      <td>2017-03-22 15:16:48</td>\n",
       "      <td>3</td>\n",
       "    </tr>\n",
       "  </tbody>\n",
       "</table>\n",
       "</div>"
      ],
      "text/plain": [
       "   x                  ts  y\n",
       "0  1 2017-03-22 15:16:46  1\n",
       "1  2 2017-03-22 15:16:47  2\n",
       "2  3 2017-03-22 15:16:48  3"
      ]
     },
     "execution_count": 85,
     "metadata": {},
     "output_type": "execute_result"
    }
   ],
   "source": [
    "c.loc[0:2, 'x':'y']"
   ]
  },
  {
   "cell_type": "code",
   "execution_count": 90,
   "metadata": {},
   "outputs": [],
   "source": [
    "c['x'] = c['x'].apply(lambda x: x+1)"
   ]
  },
  {
   "cell_type": "code",
   "execution_count": 91,
   "metadata": {},
   "outputs": [
    {
     "data": {
      "text/html": [
       "<div>\n",
       "<style scoped>\n",
       "    .dataframe tbody tr th:only-of-type {\n",
       "        vertical-align: middle;\n",
       "    }\n",
       "\n",
       "    .dataframe tbody tr th {\n",
       "        vertical-align: top;\n",
       "    }\n",
       "\n",
       "    .dataframe thead th {\n",
       "        text-align: right;\n",
       "    }\n",
       "</style>\n",
       "<table border=\"1\" class=\"dataframe\">\n",
       "  <thead>\n",
       "    <tr style=\"text-align: right;\">\n",
       "      <th></th>\n",
       "      <th>x</th>\n",
       "      <th>ts</th>\n",
       "      <th>y</th>\n",
       "    </tr>\n",
       "  </thead>\n",
       "  <tbody>\n",
       "    <tr>\n",
       "      <th>0</th>\n",
       "      <td>2</td>\n",
       "      <td>2017-03-22 15:16:46</td>\n",
       "      <td>1</td>\n",
       "    </tr>\n",
       "    <tr>\n",
       "      <th>1</th>\n",
       "      <td>3</td>\n",
       "      <td>2017-03-22 15:16:47</td>\n",
       "      <td>2</td>\n",
       "    </tr>\n",
       "    <tr>\n",
       "      <th>2</th>\n",
       "      <td>4</td>\n",
       "      <td>2017-03-22 15:16:48</td>\n",
       "      <td>3</td>\n",
       "    </tr>\n",
       "  </tbody>\n",
       "</table>\n",
       "</div>"
      ],
      "text/plain": [
       "   x                  ts  y\n",
       "0  2 2017-03-22 15:16:46  1\n",
       "1  3 2017-03-22 15:16:47  2\n",
       "2  4 2017-03-22 15:16:48  3"
      ]
     },
     "execution_count": 91,
     "metadata": {},
     "output_type": "execute_result"
    }
   ],
   "source": [
    "c"
   ]
  },
  {
   "cell_type": "code",
   "execution_count": 94,
   "metadata": {},
   "outputs": [
    {
     "data": {
      "text/plain": [
       "0    20\n",
       "1    30\n",
       "2    40\n",
       "Name: x, dtype: int64"
      ]
     },
     "execution_count": 94,
     "metadata": {},
     "output_type": "execute_result"
    }
   ],
   "source": [
    "c['x'].map(lambda x: x*10)"
   ]
  },
  {
   "cell_type": "code",
   "execution_count": 101,
   "metadata": {},
   "outputs": [],
   "source": [
    "d = c.copy()\n",
    "d['x'] = c['x'].map({2:20, 3:20, 4:44})"
   ]
  },
  {
   "cell_type": "code",
   "execution_count": 127,
   "metadata": {},
   "outputs": [
    {
     "data": {
      "text/html": [
       "<div>\n",
       "<style scoped>\n",
       "    .dataframe tbody tr th:only-of-type {\n",
       "        vertical-align: middle;\n",
       "    }\n",
       "\n",
       "    .dataframe tbody tr th {\n",
       "        vertical-align: top;\n",
       "    }\n",
       "\n",
       "    .dataframe thead tr th {\n",
       "        text-align: left;\n",
       "    }\n",
       "\n",
       "    .dataframe thead tr:last-of-type th {\n",
       "        text-align: right;\n",
       "    }\n",
       "</style>\n",
       "<table border=\"1\" class=\"dataframe\">\n",
       "  <thead>\n",
       "    <tr>\n",
       "      <th></th>\n",
       "      <th colspan=\"2\" halign=\"left\">y</th>\n",
       "      <th colspan=\"2\" halign=\"left\">ts</th>\n",
       "    </tr>\n",
       "    <tr>\n",
       "      <th></th>\n",
       "      <th>amax</th>\n",
       "      <th>amin</th>\n",
       "      <th>amax</th>\n",
       "      <th>amin</th>\n",
       "    </tr>\n",
       "    <tr>\n",
       "      <th>x</th>\n",
       "      <th></th>\n",
       "      <th></th>\n",
       "      <th></th>\n",
       "      <th></th>\n",
       "    </tr>\n",
       "  </thead>\n",
       "  <tbody>\n",
       "    <tr>\n",
       "      <th>20</th>\n",
       "      <td>2</td>\n",
       "      <td>1</td>\n",
       "      <td>2017-03-22 15:16:47</td>\n",
       "      <td>2017-03-22 15:16:46</td>\n",
       "    </tr>\n",
       "    <tr>\n",
       "      <th>44</th>\n",
       "      <td>3</td>\n",
       "      <td>3</td>\n",
       "      <td>2017-03-22 15:16:48</td>\n",
       "      <td>2017-03-22 15:16:48</td>\n",
       "    </tr>\n",
       "  </tbody>\n",
       "</table>\n",
       "</div>"
      ],
      "text/plain": [
       "      y                       ts                    \n",
       "   amax amin                amax                amin\n",
       "x                                                   \n",
       "20    2    1 2017-03-22 15:16:47 2017-03-22 15:16:46\n",
       "44    3    3 2017-03-22 15:16:48 2017-03-22 15:16:48"
      ]
     },
     "execution_count": 127,
     "metadata": {},
     "output_type": "execute_result"
    }
   ],
   "source": [
    "d.groupby('x')['y', 'ts'].agg([np.max, np.min])"
   ]
  },
  {
   "cell_type": "code",
   "execution_count": 112,
   "metadata": {},
   "outputs": [
    {
     "data": {
      "text/html": [
       "<div>\n",
       "<style scoped>\n",
       "    .dataframe tbody tr th:only-of-type {\n",
       "        vertical-align: middle;\n",
       "    }\n",
       "\n",
       "    .dataframe tbody tr th {\n",
       "        vertical-align: top;\n",
       "    }\n",
       "\n",
       "    .dataframe thead th {\n",
       "        text-align: right;\n",
       "    }\n",
       "</style>\n",
       "<table border=\"1\" class=\"dataframe\">\n",
       "  <thead>\n",
       "    <tr style=\"text-align: right;\">\n",
       "      <th></th>\n",
       "      <th>x</th>\n",
       "      <th>ts</th>\n",
       "      <th>y</th>\n",
       "    </tr>\n",
       "  </thead>\n",
       "  <tbody>\n",
       "    <tr>\n",
       "      <th>0</th>\n",
       "      <td>20</td>\n",
       "      <td>2017-03-22 15:16:46</td>\n",
       "      <td>1</td>\n",
       "    </tr>\n",
       "    <tr>\n",
       "      <th>1</th>\n",
       "      <td>20</td>\n",
       "      <td>2017-03-22 15:16:47</td>\n",
       "      <td>2</td>\n",
       "    </tr>\n",
       "    <tr>\n",
       "      <th>2</th>\n",
       "      <td>44</td>\n",
       "      <td>2017-03-22 15:16:48</td>\n",
       "      <td>3</td>\n",
       "    </tr>\n",
       "  </tbody>\n",
       "</table>\n",
       "</div>"
      ],
      "text/plain": [
       "    x                  ts  y\n",
       "0  20 2017-03-22 15:16:46  1\n",
       "1  20 2017-03-22 15:16:47  2\n",
       "2  44 2017-03-22 15:16:48  3"
      ]
     },
     "execution_count": 112,
     "metadata": {},
     "output_type": "execute_result"
    }
   ],
   "source": [
    "d"
   ]
  },
  {
   "cell_type": "code",
   "execution_count": 156,
   "metadata": {},
   "outputs": [
    {
     "data": {
      "text/html": [
       "<div>\n",
       "<style scoped>\n",
       "    .dataframe tbody tr th:only-of-type {\n",
       "        vertical-align: middle;\n",
       "    }\n",
       "\n",
       "    .dataframe tbody tr th {\n",
       "        vertical-align: top;\n",
       "    }\n",
       "\n",
       "    .dataframe thead th {\n",
       "        text-align: right;\n",
       "    }\n",
       "</style>\n",
       "<table border=\"1\" class=\"dataframe\">\n",
       "  <thead>\n",
       "    <tr style=\"text-align: right;\">\n",
       "      <th></th>\n",
       "      <th>x</th>\n",
       "      <th>y</th>\n",
       "      <th>ts</th>\n",
       "    </tr>\n",
       "  </thead>\n",
       "  <tbody>\n",
       "    <tr>\n",
       "      <th>0</th>\n",
       "      <td>20</td>\n",
       "      <td>2</td>\n",
       "      <td>2017-03-22 15:16:47</td>\n",
       "    </tr>\n",
       "    <tr>\n",
       "      <th>1</th>\n",
       "      <td>44</td>\n",
       "      <td>3</td>\n",
       "      <td>2017-03-22 15:16:48</td>\n",
       "    </tr>\n",
       "  </tbody>\n",
       "</table>\n",
       "</div>"
      ],
      "text/plain": [
       "    x  y                  ts\n",
       "0  20  2 2017-03-22 15:16:47\n",
       "1  44  3 2017-03-22 15:16:48"
      ]
     },
     "execution_count": 156,
     "metadata": {},
     "output_type": "execute_result"
    }
   ],
   "source": [
    "grouped = d.groupby('x', as_index=False)['y', 'ts'].agg({'y':np.max, 'ts':np.max})\n",
    "\n",
    "grouped"
   ]
  },
  {
   "cell_type": "code",
   "execution_count": 159,
   "metadata": {},
   "outputs": [
    {
     "data": {
      "text/html": [
       "<div>\n",
       "<style scoped>\n",
       "    .dataframe tbody tr th:only-of-type {\n",
       "        vertical-align: middle;\n",
       "    }\n",
       "\n",
       "    .dataframe tbody tr th {\n",
       "        vertical-align: top;\n",
       "    }\n",
       "\n",
       "    .dataframe thead th {\n",
       "        text-align: right;\n",
       "    }\n",
       "</style>\n",
       "<table border=\"1\" class=\"dataframe\">\n",
       "  <thead>\n",
       "    <tr style=\"text-align: right;\">\n",
       "      <th>y</th>\n",
       "      <th>1</th>\n",
       "      <th>2</th>\n",
       "      <th>3</th>\n",
       "    </tr>\n",
       "    <tr>\n",
       "      <th>x</th>\n",
       "      <th></th>\n",
       "      <th></th>\n",
       "      <th></th>\n",
       "    </tr>\n",
       "  </thead>\n",
       "  <tbody>\n",
       "    <tr>\n",
       "      <th>20</th>\n",
       "      <td>1</td>\n",
       "      <td>1</td>\n",
       "      <td>0</td>\n",
       "    </tr>\n",
       "    <tr>\n",
       "      <th>44</th>\n",
       "      <td>0</td>\n",
       "      <td>0</td>\n",
       "      <td>1</td>\n",
       "    </tr>\n",
       "  </tbody>\n",
       "</table>\n",
       "</div>"
      ],
      "text/plain": [
       "y   1  2  3\n",
       "x          \n",
       "20  1  1  0\n",
       "44  0  0  1"
      ]
     },
     "execution_count": 159,
     "metadata": {},
     "output_type": "execute_result"
    }
   ],
   "source": [
    "pd.crosstab(d['x'], d['y'])"
   ]
  },
  {
   "cell_type": "code",
   "execution_count": 160,
   "metadata": {},
   "outputs": [
    {
     "data": {
      "text/html": [
       "<div>\n",
       "<style scoped>\n",
       "    .dataframe tbody tr th:only-of-type {\n",
       "        vertical-align: middle;\n",
       "    }\n",
       "\n",
       "    .dataframe tbody tr th {\n",
       "        vertical-align: top;\n",
       "    }\n",
       "\n",
       "    .dataframe thead th {\n",
       "        text-align: right;\n",
       "    }\n",
       "</style>\n",
       "<table border=\"1\" class=\"dataframe\">\n",
       "  <thead>\n",
       "    <tr style=\"text-align: right;\">\n",
       "      <th>y</th>\n",
       "      <th>1</th>\n",
       "      <th>2</th>\n",
       "      <th>3</th>\n",
       "    </tr>\n",
       "    <tr>\n",
       "      <th>x</th>\n",
       "      <th></th>\n",
       "      <th></th>\n",
       "      <th></th>\n",
       "    </tr>\n",
       "  </thead>\n",
       "  <tbody>\n",
       "    <tr>\n",
       "      <th>20</th>\n",
       "      <td>0.333333</td>\n",
       "      <td>0.333333</td>\n",
       "      <td>0.000000</td>\n",
       "    </tr>\n",
       "    <tr>\n",
       "      <th>44</th>\n",
       "      <td>0.000000</td>\n",
       "      <td>0.000000</td>\n",
       "      <td>0.333333</td>\n",
       "    </tr>\n",
       "  </tbody>\n",
       "</table>\n",
       "</div>"
      ],
      "text/plain": [
       "y          1         2         3\n",
       "x                               \n",
       "20  0.333333  0.333333  0.000000\n",
       "44  0.000000  0.000000  0.333333"
      ]
     },
     "execution_count": 160,
     "metadata": {},
     "output_type": "execute_result"
    }
   ],
   "source": [
    "pd.crosstab(d['x'], d['y'], normalize=True)"
   ]
  },
  {
   "cell_type": "code",
   "execution_count": 162,
   "metadata": {},
   "outputs": [
    {
     "data": {
      "text/html": [
       "<div>\n",
       "<style scoped>\n",
       "    .dataframe tbody tr th:only-of-type {\n",
       "        vertical-align: middle;\n",
       "    }\n",
       "\n",
       "    .dataframe tbody tr th {\n",
       "        vertical-align: top;\n",
       "    }\n",
       "\n",
       "    .dataframe thead th {\n",
       "        text-align: right;\n",
       "    }\n",
       "</style>\n",
       "<table border=\"1\" class=\"dataframe\">\n",
       "  <thead>\n",
       "    <tr style=\"text-align: right;\">\n",
       "      <th></th>\n",
       "      <th>x</th>\n",
       "      <th>ts</th>\n",
       "      <th>y</th>\n",
       "      <th>z</th>\n",
       "    </tr>\n",
       "  </thead>\n",
       "  <tbody>\n",
       "    <tr>\n",
       "      <th>0</th>\n",
       "      <td>20</td>\n",
       "      <td>2017-03-22 15:16:46</td>\n",
       "      <td>1</td>\n",
       "      <td>21</td>\n",
       "    </tr>\n",
       "    <tr>\n",
       "      <th>1</th>\n",
       "      <td>20</td>\n",
       "      <td>2017-03-22 15:16:47</td>\n",
       "      <td>2</td>\n",
       "      <td>22</td>\n",
       "    </tr>\n",
       "    <tr>\n",
       "      <th>2</th>\n",
       "      <td>44</td>\n",
       "      <td>2017-03-22 15:16:48</td>\n",
       "      <td>3</td>\n",
       "      <td>47</td>\n",
       "    </tr>\n",
       "  </tbody>\n",
       "</table>\n",
       "</div>"
      ],
      "text/plain": [
       "    x                  ts  y   z\n",
       "0  20 2017-03-22 15:16:46  1  21\n",
       "1  20 2017-03-22 15:16:47  2  22\n",
       "2  44 2017-03-22 15:16:48  3  47"
      ]
     },
     "execution_count": 162,
     "metadata": {},
     "output_type": "execute_result"
    }
   ],
   "source": [
    "z = d['x']+d['y']\n",
    "d.insert(loc=len(d.columns), column='z', value=z)\n",
    "d"
   ]
  },
  {
   "cell_type": "code",
   "execution_count": 163,
   "metadata": {},
   "outputs": [
    {
     "data": {
      "text/plain": [
       "0    20\n",
       "1    20\n",
       "2    44\n",
       "Name: x, dtype: int64"
      ]
     },
     "execution_count": 163,
     "metadata": {},
     "output_type": "execute_result"
    }
   ],
   "source": [
    "d.x"
   ]
  },
  {
   "cell_type": "code",
   "execution_count": 165,
   "metadata": {},
   "outputs": [
    {
     "data": {
      "text/plain": [
       "0    20\n",
       "1    20\n",
       "2    44\n",
       "Name: x, dtype: int64"
      ]
     },
     "execution_count": 165,
     "metadata": {},
     "output_type": "execute_result"
    }
   ],
   "source": [
    "d['x']"
   ]
  },
  {
   "cell_type": "code",
   "execution_count": 169,
   "metadata": {},
   "outputs": [
    {
     "data": {
      "text/plain": [
       "2    44\n",
       "1    20\n",
       "0    20\n",
       "Name: x, dtype: int64"
      ]
     },
     "execution_count": 169,
     "metadata": {},
     "output_type": "execute_result"
    }
   ],
   "source": [
    "d['x'].sort_values(ascending=False)"
   ]
  },
  {
   "cell_type": "code",
   "execution_count": 171,
   "metadata": {},
   "outputs": [
    {
     "data": {
      "text/plain": [
       "<matplotlib.axes._subplots.AxesSubplot at 0x113f31208>"
      ]
     },
     "execution_count": 171,
     "metadata": {},
     "output_type": "execute_result"
    },
    {
     "data": {
      "image/png": "[encoded data removed]",
      "text/plain": [
       "<Figure size 432x288 with 1 Axes>"
      ]
     },
     "metadata": {},
     "output_type": "display_data"
    }
   ],
   "source": [
    "d.x.plot()"
   ]
  },
  {
   "cell_type": "code",
   "execution_count": null,
   "metadata": {},
   "outputs": [],
   "source": []
  }
 ],
 "metadata": {
  "kernelspec": {
   "display_name": "Python 3",
   "language": "python",
   "name": "python3"
  },
  "language_info": {
   "codemirror_mode": {
    "name": "ipython",
    "version": 3
   },
   "file_extension": ".py",
   "mimetype": "text/x-python",
   "name": "python",
   "nbconvert_exporter": "python",
   "pygments_lexer": "ipython3",
   "version": "3.7.0"
  }
 },
 "nbformat": 4,
 "nbformat_minor": 2
}
