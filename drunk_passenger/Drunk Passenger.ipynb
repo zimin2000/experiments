{
 "cells": [
  {
   "cell_type": "markdown",
   "metadata": {},
   "source": [
    "Let $P_n$ be the probability that the last passenger will take his original place.\n",
    "\n",
    "1. It is clear that $P_2 = \\frac{1}{2}$. Namely, with 50% chance the drunk will take his own seat and with 50% the seat of the other person.\n",
    "\n",
    "2. Now to compute the probability of $P_N$ the following reccurent formula can be used.\n",
    "$$P_N = \\frac{1}{N}(0+1+\\sum_{i=2}^{N-1}{P_i})$$\n",
    "\n",
    "Explaination:\n",
    "\n",
    "2.1. Let's assume the drunk ($1^{st}$) person took other's ($j^{th}$) person seat. In this case we are having exactly the same problem as the original starting this ($j^{th}$) pasenger, but for a shorter line ($N-j+1$). Indeed, \n",
    "  * there are $N-j+1$ passengers in line and each of them is having their own places free.\n",
    "    - note that for $N-j+1$ passenger his \"own\" place will be the place of the $1^{st}$ passenger (that is not occupier as otherwise everyone would perfectly took their places)\n",
    "  * and we are computing the probability of the last person taking his place.\n",
    "\n",
    "2.2. There might be a good way to generalize for the case the $1^{st}$ passenger is taking the seat of the first passenger (his own) or the seat of the last passenger, but I don't see them, so I handle them separately. These are 0 and 1 in the formula.\n",
    "\n",
    "2.3. It is clear that probability for the drunk person to take place of any person in the line is equal, so it is $\\frac{1}{n}$.\n",
    "\n",
    "3. Using Mathemadical Induction let's prove that $P_n=\\frac{1}{2}$\n",
    "\n",
    "It was proven already that $P_2 = \\frac{1}{2}$ . Now assume that for all $P_i = \\frac{1}{2}$ for all $2<=i<=N-1$\n",
    "\n",
    "$$P_N = \\frac{1}{N}(0+1+\\sum_{i=2}^{N-1}{P_i}) = \\frac{1}{N}(0+1+\\sum_{i=2}^{N-1}\\frac{1}{2}) = \\frac{1/N}(N/2) =  $$\n",
    "\n"
   ]
  },
  {
   "cell_type": "code",
   "execution_count": null,
   "metadata": {},
   "outputs": [],
   "source": []
  }
 ],
 "metadata": {
  "kernelspec": {
   "display_name": "Python 3",
   "language": "python",
   "name": "python3"
  },
  "language_info": {
   "codemirror_mode": {
    "name": "ipython",
    "version": 3
   },
   "file_extension": ".py",
   "mimetype": "text/x-python",
   "name": "python",
   "nbconvert_exporter": "python",
   "pygments_lexer": "ipython3",
   "version": "3.7.0"
  }
 },
 "nbformat": 4,
 "nbformat_minor": 2
}
